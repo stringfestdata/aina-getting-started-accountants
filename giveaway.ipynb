{
 "cells": [
  {
   "cell_type": "markdown",
   "id": "ccdec8af",
   "metadata": {},
   "source": [
    "# Giveaway!\n",
    "\n",
    "The following code will pick a name at random from registration. The winner receives a copy of the book."
   ]
  },
  {
   "cell_type": "code",
   "execution_count": null,
   "id": "f838e9c9",
   "metadata": {},
   "outputs": [],
   "source": [
    "import pandas as pd\n",
    "\n",
    "signups = pd.read_excel('C:/Rfiles/signups.xlsx')\n",
    "\n",
    "signups.sample()"
   ]
  }
 ],
 "metadata": {
  "kernelspec": {
   "display_name": "Python 3",
   "language": "python",
   "name": "python3"
  },
  "language_info": {
   "codemirror_mode": {
    "name": "ipython",
    "version": 3
   },
   "file_extension": ".py",
   "mimetype": "text/x-python",
   "name": "python",
   "nbconvert_exporter": "python",
   "pygments_lexer": "ipython3",
   "version": "3.8.8"
  }
 },
 "nbformat": 4,
 "nbformat_minor": 5
}
